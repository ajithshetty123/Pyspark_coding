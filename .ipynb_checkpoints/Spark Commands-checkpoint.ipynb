{
 "cells": [
  {
   "cell_type": "code",
   "execution_count": 3,
   "id": "e8b572ff",
   "metadata": {},
   "outputs": [],
   "source": [
    "# Import Libraries\n",
    "from pyspark.sql import SparkSession"
   ]
  },
  {
   "cell_type": "code",
   "execution_count": 4,
   "id": "fac9bb50",
   "metadata": {},
   "outputs": [],
   "source": [
    "# Create a spark session\n",
    "\n",
    "spark = SparkSession.builder\\\n",
    "        .appName(\"MySparkAppplication\")\\\n",
    "        .getOrCreate()\n",
    "    "
   ]
  },
  {
   "cell_type": "code",
   "execution_count": null,
   "id": "d992c1a7",
   "metadata": {},
   "outputs": [],
   "source": [
    "# Read CSV file\n",
    "\n",
    "csv_path = 'C:\\\\Users\\\\ajith\\\\data_spark_operations\\\\file2.csv'\n",
    "\n",
    "df_csv = spark.read.format(\"csv\") \\\n",
    "        .option(\"header\",True) \\\n",
    "        .option(\"inferSchema\",\"true\") \\\n",
    "        .option(\"mode\",\"permissive\") \\\n",
    "        .load(csv_path)\n",
    "\n",
    "display(df_csv)"
   ]
  },
  {
   "cell_type": "code",
   "execution_count": null,
   "id": "8ca7cdfc",
   "metadata": {},
   "outputs": [],
   "source": [
    "# Read a JSON file\n",
    "\n",
    "json_path = \"C:\\\\Users\\\\ajith\\\\data_spark_operations\\\\file1.json\"\n",
    "\n",
    "df_json = spark.read.format(\"json\") \\\n",
    "         .option(\"multiline\",True) \\\n",
    "         .option(\"mode\",\"DROPMALFORMED\") \\\n",
    "         .load(json_path)\n",
    "df_json =  df_json.selectExpr(\"explode(people) as person\").select(\"person.*\")\n",
    "\n",
    "df_json.show()"
   ]
  },
  {
   "cell_type": "code",
   "execution_count": null,
   "id": "134563a9",
   "metadata": {},
   "outputs": [],
   "source": [
    "# Read a Parquet file\n",
    "\n",
    "parquet_path = \"C:\\\\Users\\\\ajith\\\\data_spark_operations\\\\file3.parquet\"\n",
    "\n",
    "df_parquet = spark.read.format(\"parquet\") \\\n",
    "             .load(parquet_path)\n",
    "\n",
    "display(df_parquet)\n",
    "\n",
    "df_parquet.show()\n",
    "\n"
   ]
  },
  {
   "cell_type": "code",
   "execution_count": null,
   "id": "f5d8e801",
   "metadata": {},
   "outputs": [],
   "source": [
    "# Write dataframe as  file\n",
    "\n",
    "df_parquet.coalesce(1).write \\\n",
    "        .mode(\"overwrite\") \\\n",
    "        .format(\"csv\") \\\n",
    "        .save(\"C:\\\\Users\\\\ajith\\\\data_spark_operations\\\\parquet_file3.csv\")\n",
    "\n",
    "df_parquet.repartition(10).write \\\n",
    "        .mode(\"overwrite\") \\\n",
    "        .partitionBy(\"Sex\").format(\"parquet\") \\\n",
    "        .save(\"C:\\\\Users\\\\ajith\\\\data_spark_operations\\\\parquet_file3.parquet\")"
   ]
  },
  {
   "cell_type": "code",
   "execution_count": null,
   "id": "4362fdb5",
   "metadata": {},
   "outputs": [],
   "source": []
  },
  {
   "cell_type": "code",
   "execution_count": null,
   "id": "f45cf141",
   "metadata": {},
   "outputs": [],
   "source": []
  }
 ],
 "metadata": {
  "kernelspec": {
   "display_name": "Python 3 (ipykernel)",
   "language": "python",
   "name": "python3"
  },
  "language_info": {
   "codemirror_mode": {
    "name": "ipython",
    "version": 3
   },
   "file_extension": ".py",
   "mimetype": "text/x-python",
   "name": "python",
   "nbconvert_exporter": "python",
   "pygments_lexer": "ipython3",
   "version": "3.9.12"
  }
 },
 "nbformat": 4,
 "nbformat_minor": 5
}
