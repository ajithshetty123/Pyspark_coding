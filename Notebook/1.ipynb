{
 "cells": [
  {
   "cell_type": "markdown",
   "id": "cf3a084a",
   "metadata": {},
   "source": [
    "Customer retention refers to the ability of a company or product to retain its \t\t\t\t\t\t\t\n",
    "customers over some specified period. High customer retention means customers of\t\t\t\t\t\t\t\n",
    "the product or business tend to return to, continue to buy or in some other way \t\t\t\t\t\t\t\n",
    "not defect to another product or business, or to non-use entirely. \t\t\t\t\t\t\t\n",
    "Company programs to retain customers: Zomato Pro , Cashbacks, Reward Programs etc.\t\t\t\t\t\t\t\n"
   ]
  },
  {
   "cell_type": "code",
   "execution_count": 1,
   "id": "f90aa195",
   "metadata": {},
   "outputs": [],
   "source": [
    "# Import and create SparkSession\n",
    "from pyspark import SparkConf\n",
    "from pyspark.sql import SparkSession\n",
    "from pyspark.sql.types import *\n",
    "#from pyspark.sql.types import StructField,IntegerType, StringType , DateType ,StructType, TimestampType\n",
    "from pyspark.sql.functions import *\n",
    "#from pyspark.sql.functions import count,sum,col, to_date\n",
    "from pyspark.sql import Window"
   ]
  },
  {
   "cell_type": "code",
   "execution_count": 2,
   "id": "defa3cad",
   "metadata": {},
   "outputs": [],
   "source": [
    "# Set configuration\n",
    "my_conf = SparkConf()\n",
    "my_conf.set(\"spark.app.name\", \"My application 1\")\n",
    "my_conf.set(\"spark.master\", \"local[*]\")\n",
    "my_conf.set(\"spark.logConf\", \"false\")  # Disable Spark's internal logging configuration\n",
    "my_conf.set(\"spark.driver.log.level\", \"ERROR\")  # Set the log level for the driver\n",
    "\n",
    "# Create spark session\n",
    "spark = SparkSession.builder.config(conf=my_conf).getOrCreate()\n"
   ]
  },
  {
   "cell_type": "code",
   "execution_count": 3,
   "id": "e46ba59a",
   "metadata": {},
   "outputs": [],
   "source": [
    "# Read csv to dataframe\n",
    "df = spark.read \\\n",
    "    .format(\"csv\") \\\n",
    "    .option(\"header\", True) \\\n",
    "    .option(\"path\", r\"C:\\Users\\ajith\\Practice Python\\Pyspark_coding\\Dataset\\1.txt\") \\\n",
    "    .load()"
   ]
  },
  {
   "cell_type": "code",
   "execution_count": 4,
   "id": "5a5c36c4",
   "metadata": {},
   "outputs": [
    {
     "name": "stdout",
     "output_type": "stream",
     "text": [
      "+--------+-------+----------+------+\n",
      "|order_id|cust_id|order_date|amount|\n",
      "+--------+-------+----------+------+\n",
      "|       1|      1|15-01-2020|   150|\n",
      "|       2|      1|10-02-2020|   150|\n",
      "|       3|      2|16-01-2020|   150|\n",
      "|       4|      2|25-02-2020|   150|\n",
      "|       5|      3|10-01-2020|   150|\n",
      "|       6|      3|20-02-2020|   150|\n",
      "|       7|      4|20-01-2020|   150|\n",
      "|       8|      5|20-02-2020|   150|\n",
      "+--------+-------+----------+------+\n",
      "\n"
     ]
    }
   ],
   "source": [
    "df.show()"
   ]
  },
  {
   "cell_type": "code",
   "execution_count": 5,
   "id": "2675ed12",
   "metadata": {
    "scrolled": false
   },
   "outputs": [],
   "source": [
    "df1 = df.withColumn(\"order_date\",to_date(col(\"order_date\"),'dd-MM-yyyy')) "
   ]
  },
  {
   "cell_type": "code",
   "execution_count": 6,
   "id": "59468f03",
   "metadata": {},
   "outputs": [
    {
     "name": "stdout",
     "output_type": "stream",
     "text": [
      "+--------+-------+----------+------+\n",
      "|order_id|cust_id|order_date|amount|\n",
      "+--------+-------+----------+------+\n",
      "|       1|      1|2020-01-15|   150|\n",
      "|       2|      1|2020-02-10|   150|\n",
      "|       3|      2|2020-01-16|   150|\n",
      "|       4|      2|2020-02-25|   150|\n",
      "|       5|      3|2020-01-10|   150|\n",
      "|       6|      3|2020-02-20|   150|\n",
      "|       7|      4|2020-01-20|   150|\n",
      "|       8|      5|2020-02-20|   150|\n",
      "+--------+-------+----------+------+\n",
      "\n",
      "root\n",
      " |-- order_id: string (nullable = true)\n",
      " |-- cust_id: string (nullable = true)\n",
      " |-- order_date: date (nullable = true)\n",
      " |-- amount: string (nullable = true)\n",
      "\n"
     ]
    }
   ],
   "source": [
    "df1.show()\n",
    "df1.printSchema()"
   ]
  },
  {
   "cell_type": "code",
   "execution_count": 7,
   "id": "d3932b90",
   "metadata": {},
   "outputs": [
    {
     "name": "stdout",
     "output_type": "stream",
     "text": [
      "+-----------------+---------------+\n",
      "|month(order_date)|retention_count|\n",
      "+-----------------+---------------+\n",
      "|                1|              0|\n",
      "|                2|              3|\n",
      "+-----------------+---------------+\n",
      "\n"
     ]
    }
   ],
   "source": [
    "windowSpec  = Window.partitionBy(\"cust_id\").orderBy(\"order_date\").rowsBetween(Window.unboundedPreceding,Window.currentRow)\n",
    "\n",
    "df2 = df1.withColumn(\"retention_map\",count(\"order_id\").over(windowSpec)).orderBy(\"order_id\") \n",
    "\n",
    "df3 = df2.withColumn(\"retetion_count_flag\",when(col(\"retention_map\")>1,1).otherwise(0))\n",
    "\n",
    "df4 = df3.groupBy(month(col(\"order_date\"))).agg(sum(\"retetion_count_flag\").alias(\"retention_count\"))\n",
    "\n",
    "df4.show()"
   ]
  },
  {
   "cell_type": "code",
   "execution_count": 8,
   "id": "7ff07e5a",
   "metadata": {},
   "outputs": [
    {
     "name": "stdout",
     "output_type": "stream",
     "text": [
      "+-----------------+----------------+\n",
      "|month(order_date)|churn_count_flag|\n",
      "+-----------------+----------------+\n",
      "|                1|               1|\n",
      "|                2|               4|\n",
      "+-----------------+----------------+\n",
      "\n"
     ]
    }
   ],
   "source": [
    "windowSpec_churn  = Window.partitionBy(\"cust_id\").orderBy(\"order_date\").rowsBetween(Window.currentRow,Window.unboundedFollowing)\n",
    "\n",
    "df4 = df1.withColumn(\"churn_map\",count(\"order_id\").over(windowSpec_churn)) \n",
    "\n",
    "df5 = df4.withColumn(\"churn_count_flag\",when(col(\"churn_map\")>1,0).otherwise(1))\n",
    "        \n",
    "df6 = df5.groupBy(month(col(\"order_date\"))).agg(sum(\"churn_count_flag\").alias(\"churn_count_flag\"))\n",
    "\n",
    "df6.show()"
   ]
  },
  {
   "cell_type": "code",
   "execution_count": null,
   "id": "637301b3",
   "metadata": {},
   "outputs": [],
   "source": []
  }
 ],
 "metadata": {
  "kernelspec": {
   "display_name": "Python 3 (ipykernel)",
   "language": "python",
   "name": "python3"
  },
  "language_info": {
   "codemirror_mode": {
    "name": "ipython",
    "version": 3
   },
   "file_extension": ".py",
   "mimetype": "text/x-python",
   "name": "python",
   "nbconvert_exporter": "python",
   "pygments_lexer": "ipython3",
   "version": "3.9.12"
  }
 },
 "nbformat": 4,
 "nbformat_minor": 5
}
