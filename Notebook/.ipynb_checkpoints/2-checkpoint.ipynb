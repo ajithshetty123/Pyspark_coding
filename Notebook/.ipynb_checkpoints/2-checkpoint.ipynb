{
 "cells": [
  {
   "attachments": {},
   "cell_type": "markdown",
   "id": "fb84f85b",
   "metadata": {},
   "source": [
    "#### Get the second most recent activity or if there is only one activity then return that one\n"
   ]
  },
  {
   "cell_type": "code",
   "execution_count": 1,
   "id": "f90aa195",
   "metadata": {},
   "outputs": [],
   "source": [
    "# Import and create SparkSession\n",
    "from pyspark import SparkConf\n",
    "from pyspark.sql import SparkSession\n",
    "from pyspark.sql.types import *\n",
    "#from pyspark.sql.types import StructField,IntegerType, StringType , DateType ,StructType, TimestampType\n",
    "from pyspark.sql.functions import *\n",
    "#from pyspark.sql.functions import count,sum,col, to_date\n",
    "from pyspark.sql import Window"
   ]
  },
  {
   "cell_type": "code",
   "execution_count": 2,
   "id": "defa3cad",
   "metadata": {},
   "outputs": [],
   "source": [
    "# Set configuration\n",
    "my_conf = SparkConf()\n",
    "my_conf.set(\"spark.app.name\", \"My application 1\")\n",
    "my_conf.set(\"spark.master\", \"local[*]\")\n",
    "my_conf.set(\"spark.logConf\", \"false\")  # Disable Spark's internal logging configuration\n",
    "my_conf.set(\"spark.driver.log.level\", \"ERROR\")  # Set the log level for the driver\n",
    "\n",
    "# Create spark session\n",
    "spark = SparkSession.builder.config(conf=my_conf).getOrCreate()\n"
   ]
  },
  {
   "cell_type": "code",
   "execution_count": 3,
   "id": "e46ba59a",
   "metadata": {},
   "outputs": [],
   "source": [
    "# Read csv to dataframe\n",
    "df = spark.read \\\n",
    "    .format(\"csv\") \\\n",
    "    .option(\"header\", True) \\\n",
    "    .option(\"path\", r\"C:\\Users\\ajith\\Practice Python\\Pyspark_coding\\Dataset\\2.txt\") \\\n",
    "    .load()"
   ]
  },
  {
   "cell_type": "code",
   "execution_count": 4,
   "id": "637301b3",
   "metadata": {},
   "outputs": [
    {
     "name": "stdout",
     "output_type": "stream",
     "text": [
      "+--------+--------+----------+----------+\n",
      "|username|activity| startDate|   endDate|\n",
      "+--------+--------+----------+----------+\n",
      "|   Alice|  Travel|12-02-2020|20-02-2020|\n",
      "|   Alice| Dancing|21-02-2020|23-02-2020|\n",
      "|   Alice|  Travel|24-02-2020|28-02-2020|\n",
      "|     Bob|  Travel|11-02-2020|18-02-2020|\n",
      "+--------+--------+----------+----------+\n",
      "\n",
      "root\n",
      " |-- username: string (nullable = true)\n",
      " |-- activity: string (nullable = true)\n",
      " |-- startDate: string (nullable = true)\n",
      " |-- endDate: string (nullable = true)\n",
      "\n"
     ]
    }
   ],
   "source": [
    "df.show()\n",
    "df.printSchema()"
   ]
  },
  {
   "cell_type": "code",
   "execution_count": 5,
   "id": "040488c5",
   "metadata": {},
   "outputs": [],
   "source": [
    "df1 = df.withColumn(\"startDate\",to_date(col(\"startDate\"),'dd-MM-yyyy')) \\\n",
    "        .withColumn(\"endDate\",to_date(col(\"startDate\"),'dd-MM-yyyy')) "
   ]
  },
  {
   "cell_type": "code",
   "execution_count": 6,
   "id": "ecdc5bba",
   "metadata": {},
   "outputs": [
    {
     "name": "stdout",
     "output_type": "stream",
     "text": [
      "+--------+--------+----------+----------+\n",
      "|username|activity| startDate|   endDate|\n",
      "+--------+--------+----------+----------+\n",
      "|   Alice|  Travel|2020-02-12|2020-02-12|\n",
      "|   Alice| Dancing|2020-02-21|2020-02-21|\n",
      "|   Alice|  Travel|2020-02-24|2020-02-24|\n",
      "|     Bob|  Travel|2020-02-11|2020-02-11|\n",
      "+--------+--------+----------+----------+\n",
      "\n",
      "root\n",
      " |-- username: string (nullable = true)\n",
      " |-- activity: string (nullable = true)\n",
      " |-- startDate: date (nullable = true)\n",
      " |-- endDate: date (nullable = true)\n",
      "\n"
     ]
    }
   ],
   "source": [
    "df1.show()\n",
    "df1.printSchema()"
   ]
  },
  {
   "cell_type": "code",
   "execution_count": 7,
   "id": "20f30c9a",
   "metadata": {},
   "outputs": [],
   "source": [
    "window_for_count = Window.partitionBy(\"username\")\n",
    "window_for_rank = Window.partitionBy(\"username\").orderBy(\"startDate\")"
   ]
  },
  {
   "cell_type": "code",
   "execution_count": 8,
   "id": "0dde9df7",
   "metadata": {},
   "outputs": [],
   "source": [
    "df2 = df1.withColumn(\"total_activity\",count(\"username\").over(window_for_count)) \\\n",
    "         .withColumn(\"rn\",rank().over(window_for_rank))\n"
   ]
  },
  {
   "cell_type": "code",
   "execution_count": 9,
   "id": "7d110761",
   "metadata": {},
   "outputs": [
    {
     "name": "stdout",
     "output_type": "stream",
     "text": [
      "+--------+--------+----------+----------+\n",
      "|username|activity| startDate|   endDate|\n",
      "+--------+--------+----------+----------+\n",
      "|   Alice| Dancing|2020-02-21|2020-02-21|\n",
      "|     Bob|  Travel|2020-02-11|2020-02-11|\n",
      "+--------+--------+----------+----------+\n",
      "\n"
     ]
    }
   ],
   "source": [
    "df3 = df2.filter((col(\"total_activity\")==1) | (col(\"rn\")==2)).select(\"username\",\"activity\",\"startDate\",\"endDate\")\n",
    "\n",
    "#df3 = df2.filter((df2.total_activity==1) | (df2.rn==2))\n",
    "\n",
    "\n",
    "df3.show()\n"
   ]
  }
 ],
 "metadata": {
  "kernelspec": {
   "display_name": "Python 3 (ipykernel)",
   "language": "python",
   "name": "python3"
  },
  "language_info": {
   "codemirror_mode": {
    "name": "ipython",
    "version": 3
   },
   "file_extension": ".py",
   "mimetype": "text/x-python",
   "name": "python",
   "nbconvert_exporter": "python",
   "pygments_lexer": "ipython3",
   "version": "3.9.12"
  }
 },
 "nbformat": 4,
 "nbformat_minor": 5
}
