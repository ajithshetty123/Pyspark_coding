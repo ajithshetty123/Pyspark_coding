{
 "cells": [
  {
   "attachments": {},
   "cell_type": "markdown",
   "id": "fb84f85b",
   "metadata": {},
   "source": [
    "### The activity table shows the app installed and app purchase activities for spotify app along with country details"
   ]
  },
  {
   "cell_type": "code",
   "execution_count": 1,
   "id": "f90aa195",
   "metadata": {},
   "outputs": [],
   "source": [
    "# Import and create SparkSession\n",
    "from pyspark import SparkConf\n",
    "from pyspark.sql import SparkSession\n",
    "from pyspark.sql.types import *\n",
    "#from pyspark.sql.types import StructField,IntegerType, StringType , DateType ,StructType, TimestampType\n",
    "from pyspark.sql.functions import *\n",
    "#from pyspark.sql.functions import count,sum,col, to_date\n",
    "from pyspark.sql import Window"
   ]
  },
  {
   "cell_type": "code",
   "execution_count": 2,
   "id": "defa3cad",
   "metadata": {},
   "outputs": [],
   "source": [
    "# Set configuration\n",
    "my_conf = SparkConf()\n",
    "my_conf.set(\"spark.app.name\", \"My application 1\")\n",
    "my_conf.set(\"spark.master\", \"local[*]\")\n",
    "my_conf.set(\"spark.logConf\", \"false\")  # Disable Spark's internal logging configuration\n",
    "my_conf.set(\"spark.driver.log.level\", \"ERROR\")  # Set the log level for the driver\n",
    "\n",
    "# Create spark session\n",
    "spark = SparkSession.builder.config(conf=my_conf).getOrCreate()\n"
   ]
  },
  {
   "cell_type": "code",
   "execution_count": 3,
   "id": "e46ba59a",
   "metadata": {},
   "outputs": [],
   "source": [
    "# Read csv to dataframe\n",
    "df = spark.read \\\n",
    "    .format(\"csv\") \\\n",
    "    .option(\"header\", True) \\\n",
    "    .option(\"path\", r\"C:\\Users\\ajith\\Practice Python\\Pyspark_coding\\Dataset\\4_app_activity.txt\") \\\n",
    "    .load()"
   ]
  },
  {
   "cell_type": "code",
   "execution_count": 4,
   "id": "637301b3",
   "metadata": {},
   "outputs": [
    {
     "name": "stdout",
     "output_type": "stream",
     "text": [
      "+-------+-------------+----------+--------+\n",
      "|user_id|   event_name|event_date| country|\n",
      "+-------+-------------+----------+--------+\n",
      "|      1|app-installed|01-01-2022|   India|\n",
      "|      1| app-purchase|02-01-2022|   India|\n",
      "|      2|app-installed|01-01-2022|     USA|\n",
      "|      3|app-installed|01-01-2022|     USA|\n",
      "|      3| app-purchase|03-01-2022|     USA|\n",
      "|      4|app-installed|03-01-2022|   India|\n",
      "|      4| app-purchase|03-01-2022|   India|\n",
      "|      5|app-installed|03-01-2022|      SL|\n",
      "|      5| app-purchase|03-01-2022|      SL|\n",
      "|      6|app-installed|04-01-2022|Pakistan|\n",
      "|      6| app-purchase|04-01-2022|Pakistan|\n",
      "+-------+-------------+----------+--------+\n",
      "\n",
      "root\n",
      " |-- user_id: string (nullable = true)\n",
      " |-- event_name: string (nullable = true)\n",
      " |-- event_date: string (nullable = true)\n",
      " |-- country: string (nullable = true)\n",
      "\n"
     ]
    }
   ],
   "source": [
    "df.show()\n",
    "df.printSchema()"
   ]
  },
  {
   "cell_type": "code",
   "execution_count": 5,
   "id": "040488c5",
   "metadata": {},
   "outputs": [],
   "source": [
    "df = df.withColumn(\"event_date\",to_date(col(\"event_date\"),'dd-MM-yyyy')) "
   ]
  },
  {
   "cell_type": "code",
   "execution_count": 6,
   "id": "8885331d",
   "metadata": {},
   "outputs": [
    {
     "name": "stdout",
     "output_type": "stream",
     "text": [
      "+-------+-------------+----------+--------+\n",
      "|user_id|   event_name|event_date| country|\n",
      "+-------+-------------+----------+--------+\n",
      "|      1|app-installed|2022-01-01|   India|\n",
      "|      1| app-purchase|2022-01-02|   India|\n",
      "|      2|app-installed|2022-01-01|     USA|\n",
      "|      3|app-installed|2022-01-01|     USA|\n",
      "|      3| app-purchase|2022-01-03|     USA|\n",
      "|      4|app-installed|2022-01-03|   India|\n",
      "|      4| app-purchase|2022-01-03|   India|\n",
      "|      5|app-installed|2022-01-03|      SL|\n",
      "|      5| app-purchase|2022-01-03|      SL|\n",
      "|      6|app-installed|2022-01-04|Pakistan|\n",
      "|      6| app-purchase|2022-01-04|Pakistan|\n",
      "+-------+-------------+----------+--------+\n",
      "\n",
      "root\n",
      " |-- user_id: string (nullable = true)\n",
      " |-- event_name: string (nullable = true)\n",
      " |-- event_date: date (nullable = true)\n",
      " |-- country: string (nullable = true)\n",
      "\n"
     ]
    }
   ],
   "source": [
    "df.show()\n",
    "df.printSchema()"
   ]
  },
  {
   "cell_type": "markdown",
   "id": "4a7c5a30",
   "metadata": {},
   "source": [
    "#### 1) Find total active users each day"
   ]
  },
  {
   "cell_type": "code",
   "execution_count": 7,
   "id": "99e647fe",
   "metadata": {},
   "outputs": [
    {
     "name": "stdout",
     "output_type": "stream",
     "text": [
      "+-------+-------------+----------+--------+\n",
      "|user_id|   event_name|event_date| country|\n",
      "+-------+-------------+----------+--------+\n",
      "|      1|app-installed|2022-01-01|   India|\n",
      "|      1| app-purchase|2022-01-02|   India|\n",
      "|      2|app-installed|2022-01-01|     USA|\n",
      "|      3|app-installed|2022-01-01|     USA|\n",
      "|      3| app-purchase|2022-01-03|     USA|\n",
      "|      4|app-installed|2022-01-03|   India|\n",
      "|      4| app-purchase|2022-01-03|   India|\n",
      "|      5|app-installed|2022-01-03|      SL|\n",
      "|      5| app-purchase|2022-01-03|      SL|\n",
      "|      6|app-installed|2022-01-04|Pakistan|\n",
      "|      6| app-purchase|2022-01-04|Pakistan|\n",
      "+-------+-------------+----------+--------+\n",
      "\n"
     ]
    }
   ],
   "source": [
    "df.show()"
   ]
  },
  {
   "cell_type": "code",
   "execution_count": 8,
   "id": "1109ae11",
   "metadata": {},
   "outputs": [
    {
     "name": "stdout",
     "output_type": "stream",
     "text": [
      "+----------+-------------------+\n",
      "|event_date|No_of_distinct_user|\n",
      "+----------+-------------------+\n",
      "|2022-01-03|                  3|\n",
      "|2022-01-04|                  1|\n",
      "|2022-01-01|                  3|\n",
      "|2022-01-02|                  1|\n",
      "+----------+-------------------+\n",
      "\n"
     ]
    }
   ],
   "source": [
    "df.groupBy(\"event_date\").agg(countDistinct(\"user_id\").alias(\"No_of_distinct_user\")).show()"
   ]
  },
  {
   "cell_type": "markdown",
   "id": "b7cfddc7",
   "metadata": {},
   "source": [
    "#### 2) Find total active users each week"
   ]
  },
  {
   "cell_type": "code",
   "execution_count": 9,
   "id": "e8e2e6c5",
   "metadata": {},
   "outputs": [
    {
     "name": "stdout",
     "output_type": "stream",
     "text": [
      "+-------+-------------------+\n",
      "|Week_no|No_of_distinct_user|\n",
      "+-------+-------------------+\n",
      "|      1|                  4|\n",
      "|     52|                  3|\n",
      "+-------+-------------------+\n",
      "\n"
     ]
    }
   ],
   "source": [
    "df.withColumn(\"Week_no\",weekofyear(df.event_date)) \\\n",
    "  .groupBy(\"Week_no\").agg(countDistinct(\"user_id\").alias(\"No_of_distinct_user\")).show()"
   ]
  },
  {
   "cell_type": "markdown",
   "id": "00d62f3e",
   "metadata": {},
   "source": [
    "#### 3) Date wise total no of users who made the purchase same day they installed the app"
   ]
  },
  {
   "cell_type": "code",
   "execution_count": 10,
   "id": "7107c9ed",
   "metadata": {},
   "outputs": [
    {
     "name": "stdout",
     "output_type": "stream",
     "text": [
      "+-------+-------------+----------+--------+\n",
      "|user_id|   event_name|event_date| country|\n",
      "+-------+-------------+----------+--------+\n",
      "|      1|app-installed|2022-01-01|   India|\n",
      "|      1| app-purchase|2022-01-02|   India|\n",
      "|      2|app-installed|2022-01-01|     USA|\n",
      "|      3|app-installed|2022-01-01|     USA|\n",
      "|      3| app-purchase|2022-01-03|     USA|\n",
      "|      4|app-installed|2022-01-03|   India|\n",
      "|      4| app-purchase|2022-01-03|   India|\n",
      "|      5|app-installed|2022-01-03|      SL|\n",
      "|      5| app-purchase|2022-01-03|      SL|\n",
      "|      6|app-installed|2022-01-04|Pakistan|\n",
      "|      6| app-purchase|2022-01-04|Pakistan|\n",
      "+-------+-------------+----------+--------+\n",
      "\n"
     ]
    }
   ],
   "source": [
    "df.show()"
   ]
  },
  {
   "cell_type": "code",
   "execution_count": 11,
   "id": "8666f6cf",
   "metadata": {},
   "outputs": [],
   "source": [
    "df1 = df.groupBy(\"user_id\",\"event_date\").agg(countDistinct(\"event_name\").alias(\"No_of_distinct_user\"))  "
   ]
  },
  {
   "cell_type": "code",
   "execution_count": 12,
   "id": "0f037a44",
   "metadata": {},
   "outputs": [],
   "source": [
    "df2 = df1.withColumn(\"new_user\",when(df1[\"No_of_distinct_user\"] == 2, df.user_id).otherwise(None))"
   ]
  },
  {
   "cell_type": "code",
   "execution_count": 13,
   "id": "73e390f6",
   "metadata": {},
   "outputs": [
    {
     "name": "stdout",
     "output_type": "stream",
     "text": [
      "+----------+---------------------------+\n",
      "|event_date|Date_wise_total_no_of_users|\n",
      "+----------+---------------------------+\n",
      "|2022-01-01|                          0|\n",
      "|2022-01-02|                          0|\n",
      "|2022-01-03|                          2|\n",
      "|2022-01-04|                          1|\n",
      "+----------+---------------------------+\n",
      "\n"
     ]
    }
   ],
   "source": [
    "df2.groupBy(\"event_date\").agg(count(df2.new_user).alias(\"Date_wise_total_no_of_users\")).orderBy(\"event_date\").show()"
   ]
  },
  {
   "cell_type": "markdown",
   "id": "7a880015",
   "metadata": {},
   "source": [
    "#### 4) Find percentages of paid users in India , USA and any other country should be tagged as others\n"
   ]
  },
  {
   "cell_type": "code",
   "execution_count": 14,
   "id": "f8ce8713",
   "metadata": {},
   "outputs": [
    {
     "name": "stdout",
     "output_type": "stream",
     "text": [
      "+-------+-------------+----------+--------+\n",
      "|user_id|   event_name|event_date| country|\n",
      "+-------+-------------+----------+--------+\n",
      "|      1|app-installed|2022-01-01|   India|\n",
      "|      1| app-purchase|2022-01-02|   India|\n",
      "|      2|app-installed|2022-01-01|     USA|\n",
      "|      3|app-installed|2022-01-01|     USA|\n",
      "|      3| app-purchase|2022-01-03|     USA|\n",
      "|      4|app-installed|2022-01-03|   India|\n",
      "|      4| app-purchase|2022-01-03|   India|\n",
      "|      5|app-installed|2022-01-03|      SL|\n",
      "|      5| app-purchase|2022-01-03|      SL|\n",
      "|      6|app-installed|2022-01-04|Pakistan|\n",
      "|      6| app-purchase|2022-01-04|Pakistan|\n",
      "+-------+-------------+----------+--------+\n",
      "\n"
     ]
    }
   ],
   "source": [
    "df.show()"
   ]
  },
  {
   "cell_type": "code",
   "execution_count": 15,
   "id": "5d778a22",
   "metadata": {},
   "outputs": [],
   "source": [
    "df1 = df.filter(df.event_name == 'app-purchase') \\\n",
    "  .withColumn(\"cty\",when((df.country=='India') | (df.country =='USA'),df.country).otherwise(\"others\"))"
   ]
  },
  {
   "cell_type": "code",
   "execution_count": 16,
   "id": "223e877e",
   "metadata": {},
   "outputs": [
    {
     "name": "stdout",
     "output_type": "stream",
     "text": [
      "+------+----+\n",
      "|   cty|Perc|\n",
      "+------+----+\n",
      "| India|40.0|\n",
      "|others|40.0|\n",
      "|   USA|20.0|\n",
      "+------+----+\n",
      "\n"
     ]
    }
   ],
   "source": [
    "df1.groupBy(df1.cty).agg((count(df1.cty)*100/df1.count()).alias(\"Perc\")).show()"
   ]
  },
  {
   "cell_type": "markdown",
   "id": "e69b834f",
   "metadata": {},
   "source": [
    "#### 5)Among all the users who installed the app on a given day, how many did in app purhased on the very next day -- daywise results"
   ]
  },
  {
   "cell_type": "code",
   "execution_count": 17,
   "id": "7ee94add",
   "metadata": {},
   "outputs": [
    {
     "name": "stdout",
     "output_type": "stream",
     "text": [
      "+-------+-------------+----------+--------+\n",
      "|user_id|   event_name|event_date| country|\n",
      "+-------+-------------+----------+--------+\n",
      "|      1|app-installed|2022-01-01|   India|\n",
      "|      1| app-purchase|2022-01-02|   India|\n",
      "|      2|app-installed|2022-01-01|     USA|\n",
      "|      3|app-installed|2022-01-01|     USA|\n",
      "|      3| app-purchase|2022-01-03|     USA|\n",
      "|      4|app-installed|2022-01-03|   India|\n",
      "|      4| app-purchase|2022-01-03|   India|\n",
      "|      5|app-installed|2022-01-03|      SL|\n",
      "|      5| app-purchase|2022-01-03|      SL|\n",
      "|      6|app-installed|2022-01-04|Pakistan|\n",
      "|      6| app-purchase|2022-01-04|Pakistan|\n",
      "+-------+-------------+----------+--------+\n",
      "\n"
     ]
    }
   ],
   "source": [
    "df.show()"
   ]
  },
  {
   "cell_type": "code",
   "execution_count": 18,
   "id": "d6f460aa",
   "metadata": {
    "scrolled": true
   },
   "outputs": [
    {
     "name": "stdout",
     "output_type": "stream",
     "text": [
      "+----------+---------------+\n",
      "|event_date|count(cnt_flag)|\n",
      "+----------+---------------+\n",
      "|2022-01-01|              0|\n",
      "|2022-01-02|              1|\n",
      "|2022-01-03|              0|\n",
      "|2022-01-04|              0|\n",
      "+----------+---------------+\n",
      "\n"
     ]
    }
   ],
   "source": [
    "df.alias(\"act1\").join(df.alias(\"act2\"),col(\"act1.user_id\") == col(\"act2.user_id\"),\"inner\") \\\n",
    "                .withColumn(\"cnt_flag\",when(datediff(col(\"act2.event_date\"),col(\"act1.event_date\"))==1, col(\"act1.user_id\")).otherwise(None)) \\\n",
    "                .groupBy(\"act2.event_date\").agg(count(\"cnt_flag\")).orderBy(\"act2.event_date\").show()"
   ]
  },
  {
   "cell_type": "code",
   "execution_count": null,
   "id": "437adf05",
   "metadata": {},
   "outputs": [],
   "source": []
  }
 ],
 "metadata": {
  "kernelspec": {
   "display_name": "Python 3 (ipykernel)",
   "language": "python",
   "name": "python3"
  },
  "language_info": {
   "codemirror_mode": {
    "name": "ipython",
    "version": 3
   },
   "file_extension": ".py",
   "mimetype": "text/x-python",
   "name": "python",
   "nbconvert_exporter": "python",
   "pygments_lexer": "ipython3",
   "version": "3.9.12"
  }
 },
 "nbformat": 4,
 "nbformat_minor": 5
}
